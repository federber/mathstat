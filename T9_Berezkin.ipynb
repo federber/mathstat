{
 "cells": [
  {
   "cell_type": "code",
   "execution_count": 161,
   "id": "ba6ab643",
   "metadata": {},
   "outputs": [],
   "source": [
    "import matplotlib.pyplot as plt\n",
    "import numpy as np\n",
    "import scipy.stats as sps\n",
    "from scipy import stats\n",
    "import math \n",
    "import statistics \n",
    "from scipy.integrate import quad\n",
    "import seaborn as sns\n",
    "from scipy.stats import chi2, norm\n",
    "from scipy.optimize import minimize"
   ]
  },
  {
   "cell_type": "code",
   "execution_count": 162,
   "id": "1582a97d",
   "metadata": {},
   "outputs": [],
   "source": [
    "x = np.array([5,8,6,12,14,18,11,6,13,7])\n",
    "N = 100\n"
   ]
  },
  {
   "cell_type": "code",
   "execution_count": 164,
   "id": "845e1a39",
   "metadata": {},
   "outputs": [
    {
     "name": "stdout",
     "output_type": "stream",
     "text": [
      "intervals: [-inf  0.5  1.5  2.5  3.5  4.5  5.5  6.5  7.5  8.5  inf]\n"
     ]
    },
    {
     "data": {
      "text/plain": [
       "array([[ 0.        ,  1.        ,  2.        ,  3.        ,  4.        ,\n",
       "         5.        ,  6.        ,  7.        ,  8.        ,  9.        ],\n",
       "       [ 0.11111111,  0.11111111,  0.11111111,  0.11111111,  0.11111111,\n",
       "         0.11111111,  0.11111111,  0.11111111,  0.11111111,  0.11111111],\n",
       "       [ 5.        ,  8.        ,  6.        , 12.        , 14.        ,\n",
       "        18.        , 11.        ,  6.        , 13.        ,  7.        ],\n",
       "       [ 0.05      ,  0.08      ,  0.06      ,  0.12      ,  0.14      ,\n",
       "         0.18      ,  0.11      ,  0.06      ,  0.13      ,  0.07      ]])"
      ]
     },
     "execution_count": 164,
     "metadata": {},
     "output_type": "execute_result"
    }
   ],
   "source": [
    "data = np.arange(10)\n",
    "data = np.vstack((data, [1/(np.max(data)-np.min(data))] * 10))\n",
    "data = np.vstack((data, x))\n",
    "data = np.vstack((data, x/N))\n",
    "data\n",
    "\n",
    "intervals = np.hstack((np.array(-np.inf), data[0][1:], np.array(np.inf))) - 0.5\n",
    "print(f'intervals: {intervals}')\n",
    "data"
   ]
  },
  {
   "cell_type": "code",
   "execution_count": 76,
   "id": "1af9f779",
   "metadata": {},
   "outputs": [
    {
     "data": {
      "text/plain": [
       "array([0, 0, 0, 0, 0, 1, 1, 1, 1, 1, 1, 1, 1, 2, 2, 2, 2, 2, 2, 3, 3, 3,\n",
       "       3, 3, 3, 3, 3, 3, 3, 3, 3, 4, 4, 4, 4, 4, 4, 4, 4, 4, 4, 4, 4, 4,\n",
       "       4, 5, 5, 5, 5, 5, 5, 5, 5, 5, 5, 5, 5, 5, 5, 5, 5, 5, 5, 6, 6, 6,\n",
       "       6, 6, 6, 6, 6, 6, 6, 6, 7, 7, 7, 7, 7, 7, 8, 8, 8, 8, 8, 8, 8, 8,\n",
       "       8, 8, 8, 8, 8, 9, 9, 9, 9, 9, 9, 9])"
      ]
     },
     "execution_count": 76,
     "metadata": {},
     "output_type": "execute_result"
    }
   ],
   "source": [
    "x_arr = np.concatenate(np.array([[int(event)] * int(data[2][i]) for i, event in enumerate(data[0])], dtype=object)).astype(int)\n",
    "x_arr"
   ]
  },
  {
   "cell_type": "markdown",
   "id": "f7f9a206",
   "metadata": {},
   "source": [
    "# a)"
   ]
  },
  {
   "cell_type": "markdown",
   "id": "163e1343-55b8-4257-b90d-70295063aa9f",
   "metadata": {},
   "source": [
    "## Пирсон:"
   ]
  },
  {
   "cell_type": "code",
   "execution_count": 89,
   "id": "601d19ff-e32a-4a69-941a-330feb044513",
   "metadata": {},
   "outputs": [
    {
     "name": "stdout",
     "output_type": "stream",
     "text": [
      "p_value(delta > 15.87 | H_0) = 0.07\n"
     ]
    }
   ],
   "source": [
    "delta_est = np.sum((data[2]-N*data[1])**2 / (N*data[1]))\n",
    "k = 9\n",
    "print(f'p_value(delta > {np.round(delta_est, 2)} | H_0) = {np.round(chi2(k).sf(delta_est), 3)}')"
   ]
  },
  {
   "cell_type": "markdown",
   "id": "b79c2607-1368-4a29-a875-8aa9bfdbba36",
   "metadata": {},
   "source": [
    "## Колмогоров:"
   ]
  },
  {
   "cell_type": "code",
   "execution_count": 125,
   "id": "ab7185fd",
   "metadata": {},
   "outputs": [
    {
     "data": {
      "image/png": "[encoded data removed]",
      "text/plain": [
       "<Figure size 640x480 with 1 Axes>"
      ]
     },
     "metadata": {},
     "output_type": "display_data"
    }
   ],
   "source": [
    "def plot_ecdf(values):\n",
    "    #строим ЭФР\n",
    "    X_ = sorted(set(values))\n",
    "    Y_ = [np.mean(values < x) for x in X_]\n",
    "    X = sum([[v, v] for v in X_], [])\n",
    "    Y = sum([[v, v] for v in Y_], [])\n",
    "    Y = Y[1:]+[1]\n",
    "    plt.plot(X, Y)\n",
    "    return Y\n",
    "\n",
    "Y_ecdf = plot_ecdf(x_arr)\n",
    "\n",
    "# Строим ФР\n",
    "X = np.arange(0, 10)\n",
    "Y = stats.uniform.cdf(X, loc = 0, scale = 9)\n",
    "plt.plot(X, Y, '--', color='k')\n",
    "\n",
    "plt.show()"
   ]
  },
  {
   "cell_type": "code",
   "execution_count": 126,
   "id": "451d5eae",
   "metadata": {},
   "outputs": [
    {
     "data": {
      "text/plain": [
       "1.4333333333333331"
      ]
     },
     "execution_count": 126,
     "metadata": {},
     "output_type": "execute_result"
    }
   ],
   "source": [
    "delta_ = max(abs(Y.repeat(2)-Y_ecdf))*N**0.5\n",
    "delta_ "
   ]
  },
  {
   "cell_type": "code",
   "execution_count": 127,
   "id": "e3022528",
   "metadata": {},
   "outputs": [
    {
     "name": "stdout",
     "output_type": "stream",
     "text": [
      "p_value(delta > 1.43 | H_0) = 0.033\n"
     ]
    }
   ],
   "source": [
    "p_value = 0\n",
    "for i in range(1,1000):  \n",
    "    p_value += -2*(-1**i)*np.exp(-2*i**2*delta_**2)\n",
    "print(f'p_value(delta > {np.round(delta_, 2)} | H_0) = {np.round(p_value, 3)}')\n"
   ]
  },
  {
   "cell_type": "code",
   "execution_count": null,
   "id": "07ad8fb8-ea8e-4464-b80b-b8bcddefd38d",
   "metadata": {},
   "outputs": [],
   "source": []
  },
  {
   "cell_type": "markdown",
   "id": "aff2381d-471f-4fe3-8aa6-fe8f99f97fc5",
   "metadata": {},
   "source": [
    "## По Пирсону нет оснований отвергнуть гипотезу, однако по Колмогорову отвергаем"
   ]
  },
  {
   "cell_type": "code",
   "execution_count": null,
   "id": "3cf132bb-8ade-4043-8f39-b97603fc137f",
   "metadata": {},
   "outputs": [],
   "source": []
  },
  {
   "cell_type": "markdown",
   "id": "2a48924d",
   "metadata": {},
   "source": [
    "# b)"
   ]
  },
  {
   "cell_type": "code",
   "execution_count": null,
   "id": "24c12316",
   "metadata": {},
   "outputs": [],
   "source": []
  },
  {
   "cell_type": "code",
   "execution_count": 165,
   "id": "bfa346ab",
   "metadata": {},
   "outputs": [],
   "source": [
    "def fnorm(x, sigma, m):\n",
    "    return 1/np.sqrt(2*np.pi*sigma**2)*np.exp(-(x-m)**2/(2*sigma**2))"
   ]
  },
  {
   "cell_type": "code",
   "execution_count": 166,
   "id": "19025095",
   "metadata": {},
   "outputs": [],
   "source": [
    "\n",
    "\n",
    "def maxes_pla_func(sample_):\n",
    "    def pla_func(variables):\n",
    "        mean, sigma = variables\n",
    "        # считаем сколько элементов выборки попало в интервалы intervals\n",
    "        counts = [] # количество элементов на каждом интервале из выборки\n",
    "        for i in range(len(intervals) - 1):\n",
    "            a, b = intervals[i], intervals[i+1]\n",
    "            counts = np.append(counts, np.count_nonzero((sample_ < b) & (sample_ >= a)))\n",
    "        return -np.prod((norm(mean, sigma).cdf(intervals[1:]) - norm(mean, sigma).cdf(intervals[:-1])) ** counts) # минус так как нам нужен минимум\n",
    "    \n",
    "    \n",
    "    interv = [5.0, 3.0]\n",
    "    result = minimize(pla_func, interv, method='Nelder-Mead')\n",
    "    return np.round(result.x, 3)\n"
   ]
  },
  {
   "cell_type": "code",
   "execution_count": 167,
   "id": "e6528d1a",
   "metadata": {},
   "outputs": [
    {
     "name": "stdout",
     "output_type": "stream",
     "text": [
      "2.679 4.79\n"
     ]
    }
   ],
   "source": [
    "m_, sigma_ = maxes_pla_func(x_arr)\n",
    "print(sigma_, m_)        "
   ]
  },
  {
   "cell_type": "code",
   "execution_count": 168,
   "id": "9955281d",
   "metadata": {},
   "outputs": [],
   "source": [
    "probabilities = np.array([quad(integrand, intervals[i], intervals[i+1], args = (sigma_, m_))[0] for i in range(0, len(intervals)-1)])"
   ]
  },
  {
   "cell_type": "code",
   "execution_count": 169,
   "id": "b7c5ec38",
   "metadata": {},
   "outputs": [
    {
     "data": {
      "text/plain": [
       "array([0.0546504 , 0.05505991, 0.08662158, 0.11874054, 0.14182652,\n",
       "       0.14760566, 0.13385549, 0.1057684 , 0.07282157, 0.08304992])"
      ]
     },
     "execution_count": 169,
     "metadata": {},
     "output_type": "execute_result"
    }
   ],
   "source": [
    "probabilities "
   ]
  },
  {
   "cell_type": "code",
   "execution_count": 144,
   "id": "b8d605af",
   "metadata": {},
   "outputs": [],
   "source": [
    "delta_b = 0\n",
    "for i in range(len(x)):\n",
    "    delta_b += (x[i]-N*probabilities[i])**2/(N*probabilities[i])"
   ]
  },
  {
   "cell_type": "code",
   "execution_count": 145,
   "id": "dda4c0e6",
   "metadata": {},
   "outputs": [
    {
     "name": "stdout",
     "output_type": "stream",
     "text": [
      "p_value(delta > 9.8 | H_0) = 0.367\n"
     ]
    }
   ],
   "source": [
    "print(f'p_value(delta > {np.round(delta_b, 2)} | H_0) = {np.round(chi2(9).sf(delta_b), 3)}')"
   ]
  },
  {
   "cell_type": "markdown",
   "id": "67fc44c3",
   "metadata": {},
   "source": [
    "## Колмогоров, парам.бутстрап"
   ]
  },
  {
   "cell_type": "code",
   "execution_count": 146,
   "id": "d567714f",
   "metadata": {},
   "outputs": [],
   "source": [
    "arr_f = np.array([])\n",
    "for i in range(0,10):\n",
    "    arr_f =  np.append(arr_f, quad(fnorm, -np.inf, i, args = (sigma_, m_))[0])"
   ]
  },
  {
   "cell_type": "code",
   "execution_count": 147,
   "id": "469cf46e",
   "metadata": {},
   "outputs": [
    {
     "name": "stdout",
     "output_type": "stream",
     "text": [
      "basic delta in Kolmogorov = 0.9875992494644592\n"
     ]
    }
   ],
   "source": [
    "delta_b_kol = max(abs(arr_f.repeat(2) - Y_ecdf))*np.sqrt(N)\n",
    "print(f\"basic delta in Kolmogorov = {delta_b_kol}\")"
   ]
  },
  {
   "cell_type": "code",
   "execution_count": 148,
   "id": "ec92eaa8",
   "metadata": {},
   "outputs": [
    {
     "data": {
      "image/png": "[encoded data removed]",
      "text/plain": [
       "<Figure size 640x480 with 1 Axes>"
      ]
     },
     "metadata": {},
     "output_type": "display_data"
    }
   ],
   "source": [
    "plot_ecdf(x_arr)\n",
    "plt.plot(np.arange(0,10), arr_f)\n",
    "plt.show() "
   ]
  },
  {
   "cell_type": "code",
   "execution_count": null,
   "id": "23b1e238-f6e7-4cfe-a19d-abf803e76645",
   "metadata": {},
   "outputs": [],
   "source": []
  },
  {
   "cell_type": "code",
   "execution_count": 149,
   "id": "313143c6",
   "metadata": {},
   "outputs": [
    {
     "name": "stdout",
     "output_type": "stream",
     "text": [
      "0\n",
      "500\n",
      "1000\n",
      "1500\n",
      "2000\n",
      "2500\n",
      "3000\n",
      "3500\n",
      "4000\n",
      "4500\n",
      "5000\n",
      "5500\n",
      "6000\n",
      "6500\n",
      "7000\n",
      "7500\n",
      "8000\n",
      "8500\n",
      "9000\n",
      "9500\n",
      "10000\n",
      "10500\n",
      "11000\n",
      "11500\n",
      "12000\n",
      "12500\n",
      "13000\n",
      "13500\n",
      "14000\n",
      "14500\n",
      "15000\n",
      "15500\n",
      "16000\n",
      "16500\n",
      "17000\n",
      "17500\n",
      "18000\n",
      "18500\n",
      "19000\n",
      "19500\n",
      "CPU times: total: 18min 57s\n",
      "Wall time: 43min 41s\n"
     ]
    }
   ],
   "source": [
    "%%time\n",
    "delta_arr = np.array([])\n",
    "btN = 20000\n",
    "for i in range(0, btN):\n",
    "    if not i%500:\n",
    "        print(i)\n",
    "    bootstrap = np.sort(np.random.normal(m_, sigma_, N).astype(int))\n",
    "    count = np.array([])\n",
    "    for i in [0,1,2,3,4,5,6,7,8,9]:\n",
    "        count = np.append(count, sum(bootstrap == i)) \n",
    "    m_i, sigma_i = maxes_pla_func(count)\n",
    "    arr_f = np.array([])\n",
    "    for j in range(0,10):\n",
    "        arr_f =  np.append(arr_f, quad(fnorm, -np.inf, j, args = (sigma_i, m_i))[0])\n",
    "    delta_arr = np.append(delta_arr, max(abs(arr_f.repeat(2) - Y_ecdf))*np.sqrt(N))"
   ]
  },
  {
   "cell_type": "code",
   "execution_count": 154,
   "id": "5475a025",
   "metadata": {},
   "outputs": [],
   "source": [
    "delta_arr.sort()  \n"
   ]
  },
  {
   "cell_type": "code",
   "execution_count": 157,
   "id": "bfc4d8da-ff78-45c5-86ed-6b5cebe41e0e",
   "metadata": {},
   "outputs": [],
   "source": [
    "p_value_b_kol = sum(delta_arr >= delta_b_kol) / btN"
   ]
  },
  {
   "cell_type": "code",
   "execution_count": 158,
   "id": "ceb1ae3b",
   "metadata": {},
   "outputs": [
    {
     "name": "stdout",
     "output_type": "stream",
     "text": [
      "p_value by Kolmogorov and parametric_bootstrap = 1.0\n"
     ]
    }
   ],
   "source": [
    "print(f\"p_value by Kolmogorov and parametric_bootstrap = {p_value_b_kol}\")"
   ]
  },
  {
   "cell_type": "markdown",
   "id": "abe7648e",
   "metadata": {},
   "source": [
    "## Нет оснований отвергнуть основную гипотезу"
   ]
  },
  {
   "cell_type": "code",
   "execution_count": null,
   "id": "4e3918ec-f829-4847-8bb8-804ed618124d",
   "metadata": {},
   "outputs": [],
   "source": []
  }
 ],
 "metadata": {
  "kernelspec": {
   "display_name": "Python 3 (ipykernel)",
   "language": "python",
   "name": "python3"
  },
  "language_info": {
   "codemirror_mode": {
    "name": "ipython",
    "version": 3
   },
   "file_extension": ".py",
   "mimetype": "text/x-python",
   "name": "python",
   "nbconvert_exporter": "python",
   "pygments_lexer": "ipython3",
   "version": "3.11.8"
  }
 },
 "nbformat": 4,
 "nbformat_minor": 5
}
