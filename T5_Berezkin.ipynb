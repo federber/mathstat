{
 "cells": [
  {
   "cell_type": "code",
   "execution_count": 24,
   "id": "d1eabbe6-03b5-4503-8d9e-0227433bd9cf",
   "metadata": {},
   "outputs": [],
   "source": [
    "import matplotlib.pyplot as plt\n",
    "import numpy as np\n",
    "import scipy.stats as sps\n",
    "from scipy.stats import pareto\n",
    "import math \n",
    "import statistics \n"
   ]
  },
  {
   "cell_type": "code",
   "execution_count": 25,
   "id": "ed28afe6-91c2-4f0d-9705-32082a6cfb6a",
   "metadata": {},
   "outputs": [],
   "source": [
    "n = 100\n",
    "teta = 5"
   ]
  },
  {
   "cell_type": "code",
   "execution_count": 26,
   "id": "fbf6b166-104b-4aef-91c6-2ae4488e37b4",
   "metadata": {},
   "outputs": [],
   "source": [
    "x = pareto.rvs(b=teta-1, size=n)\n",
    "\n",
    "def teta_est(x):\n",
    "    return n/sum(np.log(x)) + 1\n",
    "    \n",
    "teta_e = teta_est(x)"
   ]
  },
  {
   "cell_type": "markdown",
   "id": "bc92586c-1ed1-4c6e-b06e-417071d1a75f",
   "metadata": {},
   "source": [
    "# Доверительный интервал для медианы(ОМП)"
   ]
  },
  {
   "cell_type": "code",
   "execution_count": 27,
   "id": "550cad80-e8cf-475d-ae68-888fe7a82c99",
   "metadata": {},
   "outputs": [
    {
     "name": "stdout",
     "output_type": "stream",
     "text": [
      "Доверительный интервал для медианы(ОМП) = (1.146912077655985, 1.2265567958112908)\n"
     ]
    }
   ],
   "source": [
    "t1_m_as = ((-1.96) * 2**(1/(teta_e-1)) * np.log(2)) / ((teta_e-1) * n**0.5) + 2**(1/(teta_e-1))\n",
    "t2_m_as = (1.96 * 2**(1/(teta_e-1)) * np.log(2)) / ((teta_e-1) * n**0.5) + 2**(1/(teta_e-1))\n",
    "print(f'Доверительный интервал для медианы(ОМП) = ({t1_m_as}, {t2_m_as})')\n"
   ]
  },
  {
   "cell_type": "markdown",
   "id": "52c75d08-d24e-4b6c-aa94-5f554e678de4",
   "metadata": {},
   "source": [
    "# Асимптотический доверительный интервал для teta"
   ]
  },
  {
   "cell_type": "code",
   "execution_count": 28,
   "id": "f91cd048-358c-4f66-abc3-654f8c54a6ce",
   "metadata": {},
   "outputs": [
    {
     "name": "stdout",
     "output_type": "stream",
     "text": [
      "Асимптотический доверительный интервал для teta(ОМП) = (4.255098552927793, 5.842161528982139)\n"
     ]
    }
   ],
   "source": [
    "t1_as_teta= teta_e - 1.96*(teta_e - 1)/(n**0.5)\n",
    "t2_as_teta = teta_e + 1.96*(teta_e - 1)/(n**0.5)\n",
    "print(f'Асимптотический доверительный интервал для teta(ОМП) = ({t1_as_teta}, {t2_as_teta})')\n"
   ]
  },
  {
   "cell_type": "markdown",
   "id": "5e56f214-b89e-4a15-a36e-d1395baae7c0",
   "metadata": {},
   "source": [
    "# Bootstrap"
   ]
  },
  {
   "cell_type": "code",
   "execution_count": 29,
   "id": "2e18cc70-c784-4682-bc6d-7bc36ae7c174",
   "metadata": {},
   "outputs": [],
   "source": [
    "delta = np.array([])\n",
    "teta_boot = np.array([])\n",
    "\n",
    "for i in range(0,1000):\n",
    "    bt = np.random.choice(x, size = x.shape[0]).round(2) \n",
    "    delta = np.append(delta, teta_est(bt) - teta_e)\n",
    "    \n",
    "\n",
    "delta.sort() \n",
    "t1_bt, t2_bt = teta_e - delta[975], teta_e - delta[25]"
   ]
  },
  {
   "cell_type": "code",
   "execution_count": 30,
   "id": "67433d68-6663-4f00-9420-2a9334df0d2a",
   "metadata": {},
   "outputs": [
    {
     "name": "stdout",
     "output_type": "stream",
     "text": [
      "Бутстраповский(непараметрический) интервал для teta : (3.995421820447091, 5.864009010381447) реальная teta: 5\n"
     ]
    }
   ],
   "source": [
    "print(f'Бутстраповский(непараметрический) интервал для teta : ({t1_bt}, {t2_bt}) реальная teta: {teta}')\n"
   ]
  },
  {
   "cell_type": "markdown",
   "id": "358d8f7e-020d-43fd-99cf-18764e841619",
   "metadata": {},
   "source": [
    "# Parametric Bootstrap"
   ]
  },
  {
   "cell_type": "code",
   "execution_count": 31,
   "id": "fecaa64d-0a52-4b83-8742-ca84df9845ff",
   "metadata": {},
   "outputs": [],
   "source": [
    "delta_par = np.array([])\n",
    "\n",
    "for i in range(70000):\n",
    "    bt_par = pareto.rvs(b = teta-1, size=n)\n",
    "    delta_par = np.append(delta_par, teta_est(bt_par) - teta_e)\n",
    "\n",
    "delta_par.sort() \n",
    "\n",
    "t1_bt_par, t2_bt_par = teta_e - delta_par[int(delta_par.shape[0]*0.975)], teta_e - delta_par[int(delta_par.shape[0]*0.025)]"
   ]
  },
  {
   "cell_type": "code",
   "execution_count": 32,
   "id": "3f942a24-8c67-466b-b2ac-da9a0db8e9a1",
   "metadata": {},
   "outputs": [
    {
     "name": "stdout",
     "output_type": "stream",
     "text": [
      "Бутстраповский(параметрический) интервал для teta : (4.186610802213116, 5.777399061600406) реальная teta: 5\n"
     ]
    }
   ],
   "source": [
    "print(f'Бутстраповский(параметрический) интервал для teta : ({t1_bt_par}, {t2_bt_par}) реальная teta: {teta}')"
   ]
  },
  {
   "cell_type": "code",
   "execution_count": null,
   "id": "f06da55b-01bb-4077-8985-59bcd01ef487",
   "metadata": {},
   "outputs": [],
   "source": []
  },
  {
   "cell_type": "code",
   "execution_count": 33,
   "id": "ba94af13-8e44-474b-bd06-dce46fa1dd18",
   "metadata": {},
   "outputs": [
    {
     "data": {
      "text/plain": [
       "<matplotlib.legend.Legend at 0x2121915c090>"
      ]
     },
     "execution_count": 33,
     "metadata": {},
     "output_type": "execute_result"
    },
    {
     "data": {
      "image/png": "[encoded data removed]",
      "text/plain": [
       "<Figure size 800x500 with 1 Axes>"
      ]
     },
     "metadata": {},
     "output_type": "display_data"
    }
   ],
   "source": [
    "fig, ax = plt.subplots(figsize=(8,5))\n",
    "\n",
    "ax.plot([t1_bt, t2_bt], [-1.5, -1.5], label = 'Бутстрап(непараметрический)')\n",
    "ax.plot([t1_bt_par, t2_bt_par], [-0.5, -0.5], label = 'Бутстрап(параметрический)')\n",
    "ax.plot([t1_as_teta, t2_as_teta], [-1, -1], label = 'Асимптотический(ОМП)')\n",
    "\n",
    "ax.plot([teta, teta], [-2.5,-0.1], label = 'Реальная тета')\n",
    "\n",
    "\n",
    "ax.set_title('Интервалы')    \n",
    "\n",
    "ax.legend()"
   ]
  },
  {
   "cell_type": "code",
   "execution_count": null,
   "id": "41e02736-9dd4-40f8-aa88-c10ab5db5367",
   "metadata": {},
   "outputs": [],
   "source": []
  },
  {
   "cell_type": "code",
   "execution_count": null,
   "id": "d7aa87ae-0351-428a-93e6-ae382ca20589",
   "metadata": {},
   "outputs": [],
   "source": []
  }
 ],
 "metadata": {
  "kernelspec": {
   "display_name": "Python 3 (ipykernel)",
   "language": "python",
   "name": "python3"
  },
  "language_info": {
   "codemirror_mode": {
    "name": "ipython",
    "version": 3
   },
   "file_extension": ".py",
   "mimetype": "text/x-python",
   "name": "python",
   "nbconvert_exporter": "python",
   "pygments_lexer": "ipython3",
   "version": "3.11.8"
  }
 },
 "nbformat": 4,
 "nbformat_minor": 5
}
